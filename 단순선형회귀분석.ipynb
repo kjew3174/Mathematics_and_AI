{
  "cells": [
    {
      "cell_type": "code",
      "execution_count": 4,
      "metadata": {
        "id": "t_tLYd7T6WRo"
      },
      "outputs": [],
      "source": [
        "import pandas\n",
        "import matplotlib.pyplot as plt\n",
        "\n",
        "w: float\n",
        "b: float\n",
        "test_w: float\n",
        "test_b: float\n",
        "data = list[tuple[float, float]]()\n"
      ]
    },
    {
      "cell_type": "code",
      "execution_count": 5,
      "metadata": {
        "id": "1-8oMVSfS330"
      },
      "outputs": [],
      "source": [
        "def direct_input() -> list[tuple[float, float]]:\n",
        "  print(\"2개의 변수(실수)를 입력하고, 멈추려면 입력 없이 Enter를 누르세요\")\n",
        "  while True:\n",
        "    text = input().split()\n",
        "    if len(text) == 0:\n",
        "      break\n",
        "    else:\n",
        "      point: tuple[float, float] = (float(text[0]), float(text[1]))\n",
        "      data.append(point)\n",
        "  return data"
      ]
    },
    {
      "cell_type": "code",
      "execution_count": 6,
      "metadata": {
        "id": "8Rb5fonKrpGg"
      },
      "outputs": [],
      "source": [
        "\n",
        "def csv_input() -> list[tuple[float, float]]:\n",
        "    csv_path = input(\"불러올 csv 파일의 경로를 입력하세요. (예: C:/Users/user/Downloads/data.csv)\")\n",
        "    csv = pandas.read_csv(csv_path, encoding=\"cp949\")\n",
        "    for idx, column in enumerate(csv.columns):\n",
        "        print(f\"[{idx}] {column}\")\n",
        "    x = int(input(\"x축으로 사용할 열의 번호를 입력하세요.\"))\n",
        "    y = int(input(\"y축으로 사용할 열의 번호를 입력하세요.\"))\n",
        "    data = [(float(row[x]), float(row[y])) for index, row in csv.iterrows()]\n",
        "    return data"
      ]
    },
    {
      "cell_type": "code",
      "execution_count": 7,
      "metadata": {
        "id": "NOL3S2qcrpGh",
        "colab": {
          "base_uri": "https://localhost:8080/"
        },
        "outputId": "77620c87-4819-45dc-e262-51dddbecdfa0"
      },
      "outputs": [
        {
          "name": "stdout",
          "output_type": "stream",
          "text": [
            "[1] 데이터 직접 입력 [2] csv 파일 불러오기: 1\n",
            "2개의 변수(실수)를 입력하고, 멈추려면 입력 없이 Enter를 누르세요\n",
            "1 2\n",
            "2 3\n",
            "3 2\n",
            "4 4\n",
            "5 6\n",
            "6 8\n",
            "7 6\n",
            "8 8\n",
            "9 8\n",
            "\n"
          ]
        }
      ],
      "source": [
        "start = input(\"[1] 데이터 직접 입력 [2] csv 파일 불러오기: \")\n",
        "if start == \"1\":\n",
        "  data = direct_input()\n",
        "elif start == \"2\":\n",
        "  data = csv_input()\n",
        "else:\n",
        "  exit()\n",
        "if len(data) == 0:\n",
        "  exit()"
      ]
    },
    {
      "cell_type": "code",
      "execution_count": 8,
      "metadata": {
        "id": "ZkvvoFoFVYPy"
      },
      "outputs": [],
      "source": [
        "def Loss(w: float, b: float) -> float: # 평균제곱오차 손실함수\n",
        "  s: float = 0\n",
        "  for i in data:\n",
        "    pred = w * i[0] + b\n",
        "    err = (pred - i[1]) ** 2\n",
        "    s += err\n",
        "  return s / len(data)\n",
        "\n",
        "def Loss_pw(w: float, b: float) -> float: # 손실함수 가중치 도함수\n",
        "  # 2x(wx + b - y)\n",
        "  s: float = 0\n",
        "  for i in data:\n",
        "    s += 2 * i[0] * (w * i[0] + b - i[1])\n",
        "  return s / len(data)\n",
        "\n",
        "def Loss_pb(w: float, b: float) -> float: # 손실함수 편향 도함수\n",
        "  # 2(wx + b - y)\n",
        "  s: float = 0\n",
        "  for i in data:\n",
        "    s += 2 * (w * i[0] + b - i[1])\n",
        "  return s / len(data)"
      ]
    },
    {
      "cell_type": "code",
      "execution_count": 13,
      "metadata": {
        "id": "KRa_rmFZTgdC"
      },
      "outputs": [],
      "source": [
        "test_w = (data[-1][1] - data[0][1]) / (data[-1][0] - data[0][0]) # 평균변화율\n",
        "test_b = data[-1][1] - test_w * data[-1][0]\n",
        "\n",
        "D = 0.1 # 손실함수 변화량 수렴 기준"
      ]
    },
    {
      "cell_type": "code",
      "execution_count": 14,
      "metadata": {
        "colab": {
          "base_uri": "https://localhost:8080/"
        },
        "id": "cyHxVd4EYC_v",
        "outputId": "4be6864d-09f1-451b-ba36-144d1d3f7d97"
      },
      "outputs": [
        {
          "output_type": "stream",
          "name": "stdout",
          "text": [
            "w: 0.7855555555555556, b: 1.25, Loss: 0.9413909465020576\n",
            "w: 0.7985925925925926, b: 1.25, Loss: 0.9297767169638775\n",
            "w: 0.8033728395061729, b: 1.25, Loss: 0.9282152483259666\n",
            "w: 0.8051255967078189, b: 1.25, Loss: 0.9280053175424254\n"
          ]
        }
      ],
      "source": [
        "lr = 0.01 # Learning Rate\n",
        "while True:\n",
        "  L_pw = Loss_pw(test_w, test_b)\n",
        "  if abs(L_pw) <= D:\n",
        "    break\n",
        "  test_w -= L_pw * lr\n",
        "  print(f\"w: {test_w}, b: {test_b}, Loss: {Loss(test_w, test_b)}\")\n",
        "\n",
        "w = test_w"
      ]
    },
    {
      "cell_type": "code",
      "execution_count": 15,
      "metadata": {
        "colab": {
          "base_uri": "https://localhost:8080/"
        },
        "id": "on4D9tZvcbMV",
        "outputId": "d2b73cd1-ef8a-4aeb-83c9-fca79077f7a9"
      },
      "outputs": [
        {
          "output_type": "stream",
          "name": "stdout",
          "text": [
            "w: 0.8051255967078189, b: 1.2489318847736626, Loss: 0.9278923713988887\n",
            "w: 0.8051255967078189, b: 1.2478851318518518, Loss: 0.927783897922636\n",
            "w: 0.8051255967078189, b: 1.2468593139884774, Loss: 0.9276797199960429\n",
            "w: 0.8051255967078189, b: 1.2458540124823705, Loss: 0.9275796675153433\n"
          ]
        }
      ],
      "source": [
        "lr = 0.01 # Learning Rate\n",
        "while True:\n",
        "  L_pb = Loss_pb(w, test_b)\n",
        "  if abs(L_pb) <= D:\n",
        "    break\n",
        "  test_b -= L_pb * lr\n",
        "  print(f\"w: {w}, b: {test_b}, Loss: {Loss(w, test_b)}\")\n",
        "\n",
        "b = test_b"
      ]
    },
    {
      "cell_type": "code",
      "execution_count": 16,
      "metadata": {
        "colab": {
          "base_uri": "https://localhost:8080/"
        },
        "id": "iYtiNwrhdrp0",
        "outputId": "bdaabbb6-8429-413a-8e15-3bf7b6d53038"
      },
      "outputs": [
        {
          "output_type": "stream",
          "name": "stdout",
          "text": [
            "추세선 결과: y = 0.805126x + 1.245854\n"
          ]
        }
      ],
      "source": [
        "print(f\"추세선 결과: y = {w:.6f}x \", end='')\n",
        "if b >= 0:\n",
        "  print(\"+ \", end='')\n",
        "print(f\"{b:.6f}\")"
      ]
    },
    {
      "cell_type": "code",
      "execution_count": 17,
      "metadata": {
        "colab": {
          "base_uri": "https://localhost:8080/",
          "height": 430
        },
        "id": "gRHvRiMvrpGj",
        "outputId": "d5876a88-387b-4754-ec04-dca1ee1b04c7"
      },
      "outputs": [
        {
          "output_type": "display_data",
          "data": {
            "text/plain": [
              "<Figure size 640x480 with 1 Axes>"
            ],
            "image/png": "[encoded data removed]"
          },
          "metadata": {}
        }
      ],
      "source": [
        "plt.scatter([i[0] for i in data], [i[1] for i in data])\n",
        "plt.plot([i[0] for i in data], [w * i[0] + b for i in data], color='red')\n",
        "plt.show()"
      ]
    },
    {
      "cell_type": "code",
      "execution_count": null,
      "metadata": {
        "id": "hB2WX8f8rpGk"
      },
      "outputs": [],
      "source": []
    },
    {
      "cell_type": "code",
      "execution_count": null,
      "metadata": {
        "id": "OBOPNk6urpGk"
      },
      "outputs": [],
      "source": []
    }
  ],
  "metadata": {
    "colab": {
      "provenance": []
    },
    "kernelspec": {
      "display_name": "Python 3",
      "name": "python3"
    },
    "language_info": {
      "codemirror_mode": {
        "name": "ipython",
        "version": 3
      },
      "file_extension": ".py",
      "mimetype": "text/x-python",
      "name": "python",
      "nbconvert_exporter": "python",
      "pygments_lexer": "ipython3",
      "version": "3.13.2"
    }
  },
  "nbformat": 4,
  "nbformat_minor": 0
}