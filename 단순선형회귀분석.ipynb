{
 "cells": [
  {
   "cell_type": "code",
   "execution_count": null,
   "metadata": {
    "executionInfo": {
     "elapsed": 4,
     "status": "ok",
     "timestamp": 1756381207342,
     "user": {
      "displayName": "곽진우",
      "userId": "16087086634864316353"
     },
     "user_tz": -540
    },
    "id": "t_tLYd7T6WRo"
   },
   "outputs": [],
   "source": [
    "w: float\n",
    "b: float\n",
    "test_w: float\n",
    "test_b: float\n",
    "data = list[tuple[float, float]]()\n"
   ]
  },
  {
   "cell_type": "code",
   "execution_count": null,
   "metadata": {
    "colab": {
     "base_uri": "https://localhost:8080/"
    },
    "executionInfo": {
     "elapsed": 16923,
     "status": "ok",
     "timestamp": 1756381227164,
     "user": {
      "displayName": "곽진우",
      "userId": "16087086634864316353"
     },
     "user_tz": -540
    },
    "id": "1-8oMVSfS330",
    "outputId": "f81515ab-1d52-41a9-d403-e7c0abd3e719"
   },
   "outputs": [],
   "source": [
    "def direct_input() -> list[tuple[float, float]]:\n",
    "  print(\"2개의 변수(실수)를 입력하고, 멈추려면 입력 없이 Enter를 누르세요\")\n",
    "  while True:\n",
    "    text = input().split()\n",
    "    if len(text) == 0:\n",
    "      break\n",
    "    else:\n",
    "      point: tuple[float, float] = (float(text[0]), float(text[1]))\n",
    "      data.append(point)\n",
    "  return data"
   ]
  },
  {
   "cell_type": "code",
   "execution_count": null,
   "metadata": {},
   "outputs": [],
   "source": [
    "\n",
    "def csv_input() -> list[tuple[float, float]]:\n",
    "    import pandas\n",
    "    csv_path = input(\"불러올 csv 파일의 경로를 입력하세요. (예: C:/Users/user/Downloads/data.csv)\")\n",
    "    csv = pandas.read_csv(csv_path, encoding=\"cp949\")\n",
    "    for idx, column in enumerate(csv.columns):\n",
    "        print(f\"[{idx}] {column}\")\n",
    "    x = int(input(\"x축으로 사용할 열의 번호를 입력하세요.\"))\n",
    "    y = int(input(\"y축으로 사용할 열의 번호를 입력하세요.\"))\n",
    "    data = [(float(row[x]), float(row[y])) for index, row in csv.iterrows()]\n",
    "    return data"
   ]
  },
  {
   "cell_type": "code",
   "execution_count": null,
   "metadata": {},
   "outputs": [],
   "source": [
    "start = input(\"[1] 데이터 직접 입력 [2] csv 파일 불러오기: \")\n",
    "if start == \"1\":\n",
    "  data = direct_input()\n",
    "elif start == \"2\":\n",
    "  data = csv_input()\n",
    "else:\n",
    "  exit()"
   ]
  },
  {
   "cell_type": "code",
   "execution_count": null,
   "metadata": {
    "executionInfo": {
     "elapsed": 8,
     "status": "ok",
     "timestamp": 1756381229187,
     "user": {
      "displayName": "곽진우",
      "userId": "16087086634864316353"
     },
     "user_tz": -540
    },
    "id": "ZkvvoFoFVYPy"
   },
   "outputs": [],
   "source": [
    "def Loss(w: float, b: float) -> float: # 평균제곱오차 손실함수\n",
    "  s: float = 0\n",
    "  for i in data:\n",
    "    pred = w * i[0] + b\n",
    "    err = (pred - i[1]) ** 2\n",
    "    s += err\n",
    "  return s / len(data)"
   ]
  },
  {
   "cell_type": "code",
   "execution_count": null,
   "metadata": {
    "executionInfo": {
     "elapsed": 20,
     "status": "ok",
     "timestamp": 1756381233821,
     "user": {
      "displayName": "곽진우",
      "userId": "16087086634864316353"
     },
     "user_tz": -540
    },
    "id": "KRa_rmFZTgdC"
   },
   "outputs": [],
   "source": [
    "test_w = (data[-1][1] - data[0][1]) / (data[-1][0] - data[0][0]) # 평균변화율\n",
    "test_b = data[-1][1] - test_w * data[-1][0]\n",
    "\n",
    "D = 0.000000000001 # 손실함수 변화량 수렴 기준"
   ]
  },
  {
   "cell_type": "code",
   "execution_count": null,
   "metadata": {
    "colab": {
     "base_uri": "https://localhost:8080/",
     "height": 367
    },
    "executionInfo": {
     "elapsed": 961,
     "status": "error",
     "timestamp": 1756381443311,
     "user": {
      "displayName": "곽진우",
      "userId": "16087086634864316353"
     },
     "user_tz": -540
    },
    "id": "cyHxVd4EYC_v",
    "outputId": "4dfc5468-3e44-4e2d-a1d1-1a9133b8da28"
   },
   "outputs": [],
   "source": [
    "lr = 1.0 # Learning Rate\n",
    "rev = 1\n",
    "sign: str = \"\"\n",
    "while True:\n",
    "  L_r = Loss(test_w + lr, test_b) # 손실함수 우극한\n",
    "  L_l = Loss(test_w - lr, test_b) # 손실함수 좌극한\n",
    "  if (L_l <= L_r and sign == \"-\") or (L_l > L_r and sign == \"+\"):\n",
    "    if abs(L_r - L_l) * rev <= D:\n",
    "      break\n",
    "    lr = lr / 2\n",
    "    rev *= 2\n",
    "  if L_l < L_r: # 손실함수 증가\n",
    "    test_w -= lr\n",
    "    sign = \"+\"\n",
    "  else: # 손실함수 감소\n",
    "    test_w += lr\n",
    "    sign = \"-\"\n",
    "  print(f\"w: {test_w}, b: {test_b}, Loss: {Loss(test_w, test_b)}, lr: {lr}, sign: {sign}\")\n",
    "\n",
    "w = test_w"
   ]
  },
  {
   "cell_type": "code",
   "execution_count": null,
   "metadata": {
    "id": "on4D9tZvcbMV"
   },
   "outputs": [],
   "source": [
    "lr = 1.0 # Learning Rate\n",
    "rev = 1\n",
    "sign = \"\"\n",
    "while True:\n",
    "  L_r = Loss(w, test_b + lr)\n",
    "  L_l = Loss(w, test_b - lr)\n",
    "  if (L_l <= L_r and sign == \"-\") or (L_l > L_r and sign == \"+\"):\n",
    "    if abs(L_r - L_l) * rev <= D:\n",
    "      break\n",
    "    lr = lr / 2\n",
    "    rev *= 2\n",
    "  if L_l <= L_r: # w가 증가하면 손실함수 증가\n",
    "    test_b -= lr\n",
    "    sign = \"+\"\n",
    "  else: # 손실함수 감소\n",
    "    test_b += lr\n",
    "    sign = \"-\"\n",
    "  print(f\"w: {test_w}, b: {test_b}, Loss: {Loss(test_w, test_b)}, lr: {lr}, sign: {sign}\")\n",
    "\n",
    "b = test_b"
   ]
  },
  {
   "cell_type": "code",
   "execution_count": null,
   "metadata": {
    "id": "iYtiNwrhdrp0"
   },
   "outputs": [],
   "source": [
    "print(f\"추세선 결과: y = {w:.6f}x \", end='')\n",
    "if b >= 0:\n",
    "  print(\"+ \", end='')\n",
    "print(f\"{b:.6f}\")"
   ]
  }
 ],
 "metadata": {
  "colab": {
   "authorship_tag": "ABX9TyOcc8ksALI4MTIx+yu0iFWf",
   "provenance": []
  },
  "kernelspec": {
   "display_name": "Python 3",
   "name": "python3"
  },
  "language_info": {
   "codemirror_mode": {
    "name": "ipython",
    "version": 3
   },
   "file_extension": ".py",
   "mimetype": "text/x-python",
   "name": "python",
   "nbconvert_exporter": "python",
   "pygments_lexer": "ipython3",
   "version": "3.13.2"
  }
 },
 "nbformat": 4,
 "nbformat_minor": 0
}
